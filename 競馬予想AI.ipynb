{
 "cells": [
  {
   "cell_type": "markdown",
   "id": "f260893c-f014-4d33-bd7c-1896ff6a88ae",
   "metadata": {},
   "source": [
    "# 1.関数・クラス定義・インポート"
   ]
  },
  {
   "cell_type": "code",
   "execution_count": 1,
   "id": "b75c8b8e-1820-4211-9402-f9be08ecbbfc",
   "metadata": {},
   "outputs": [],
   "source": [
    "import numpy as np\n",
    "import datetime\n",
    "import pandas as pd\n",
    "import lightgbm as lgb\n",
    "from sklearn.metrics import roc_auc_score\n",
    "from urllib.request import urlopen\n",
    "import time\n",
    "from tqdm.notebook import tqdm\n",
    "from sklearn.preprocessing import LabelEncoder\n",
    "import requests\n",
    "from bs4 import BeautifulSoup\n",
    "import re\n",
    "\n",
    "\n",
    "class HorseResults:\n",
    "    def __init__(self, horse_results):\n",
    "        self.horse_results = horse_results[[\"日付\", \"着順\", \"賞金\"]]\n",
    "        self.preprocessing()\n",
    "        # self.horse_results.rename(columns={'着順':'着順（平均）','賞金':'賞金（平均）'},inplace=True)\n",
    "\n",
    "    def preprocessing(self):\n",
    "        df = self.horse_results.copy()\n",
    "\n",
    "        # 着順に数字以外の文字列が含まれているものを取り除く\n",
    "        df[\"着順\"] = pd.to_numeric(df[\"着順\"], errors=\"coerce\")\n",
    "        df.dropna(subset=[\"着順\"], inplace=True)\n",
    "        df[\"着順\"] = df[\"着順\"].astype(int)\n",
    "\n",
    "        df[\"date\"] = pd.to_datetime(df[\"日付\"])\n",
    "        df.drop([\"日付\"], axis=1, inplace=True)\n",
    "        df[\"賞金\"].fillna(0, inplace=True)\n",
    "        self.horse_results = df\n",
    "\n",
    "    def average(self, horse_id_list, date, n_samples=\"all\"):\n",
    "        target_df = self.horse_results.query(\"index in @horse_id_list\")\n",
    "\n",
    "        if n_samples == \"all\":\n",
    "            filtered_df = target_df[target_df[\"date\"] < date]\n",
    "        elif n_samples > 0:\n",
    "            filtered_df = (\n",
    "                target_df[target_df[\"date\"] < date]\n",
    "                .sort_values(\"date\", ascending=False)\n",
    "                .groupby(level=0)\n",
    "                .head(n_samples)\n",
    "            )\n",
    "        else:\n",
    "            raise Exception(\"正の値のみ\")\n",
    "\n",
    "        ave = filtered_df.groupby(level=0)[[\"着順\", \"賞金\"]].mean()\n",
    "        return ave.rename(\n",
    "            columns={\n",
    "                \"着順\": \"着順平均{}R分\".format(n_samples),\n",
    "                \"賞金\": \"賞金平均{}R分\".format(n_samples),\n",
    "            }\n",
    "        )\n",
    "\n",
    "    def merge(self, results, date, n_samples=\"all\"):\n",
    "        df = results[results[\"date\"] == date]\n",
    "        horse_id_list = df[\"horse_id\"]\n",
    "        merged_df = df.merge(\n",
    "            self.average(horse_id_list, date, n_samples),\n",
    "            left_on=\"horse_id\",\n",
    "            right_index=True,\n",
    "            how=\"left\",\n",
    "        )\n",
    "        return merged_df\n",
    "\n",
    "    def merge_all(self, results, n_samples=\"all\"):\n",
    "        date_list = results[\"date\"].unique()\n",
    "        merged_df = pd.concat(\n",
    "            [self.merge(results, date, n_samples) for date in date_list]\n",
    "        )\n",
    "        return merged_df\n",
    "\n",
    "\n",
    "class Return:\n",
    "    def __init__(self, return_tables):\n",
    "        self.return_tables = return_tables\n",
    "\n",
    "    @property\n",
    "    def fukusho(self):\n",
    "        fukusho = self.return_tables[self.return_tables[0] == \"複勝\"][[1, 2]]\n",
    "        wins = fukusho[1].str.split(\"br\", expand=True).drop([3], axis=1)\n",
    "        wins.columns = [\"win_0\", \"win_1\", \"win_2\"]\n",
    "        returns = fukusho[2].str.split(\"br\", expand=True).drop([3], axis=1)\n",
    "        returns.columns = [\"return_0\", \"return_1\", \"return_2\"]\n",
    "        df = pd.concat([wins, returns], axis=1)\n",
    "        for column in df.columns:\n",
    "            df[column] = df[column].str.replace(\",\", \"\")\n",
    "        return df.fillna(0).astype(int)\n",
    "\n",
    "    @property\n",
    "    def tansho(self):\n",
    "        tansho = self.return_tables[self.return_tables[0] == \"単勝\"][[1, 2]]\n",
    "        tansho.columns = [\"win\", \"return\"]\n",
    "\n",
    "        for column in tansho.columns:\n",
    "            tansho[column] = pd.to_numeric(tansho[column], errors=\"coerce\")\n",
    "        return tansho\n",
    "\n",
    "\n",
    "class ModelEvaluator:\n",
    "    def __init__(self, model, return_tables, std=True):\n",
    "        self.model = model\n",
    "        self.fukusho = Return(return_tables).fukusho\n",
    "        self.tansho = Return(return_tables).tansho\n",
    "        self.std = std\n",
    "\n",
    "    def predict_proba(self, X):\n",
    "        proba = pd.Series(self.model.predict_proba(X)[:, 1], index=X.index)\n",
    "        if self.std:\n",
    "            standard_scaler = lambda x: (x - x.mean()) / x.std()\n",
    "            proba = proba.groupby(level=0).transform(standard_scaler)\n",
    "            proba = (proba - proba.min()) / (proba.max() - proba.min())\n",
    "        return proba\n",
    "\n",
    "    def predict(self, X, threshold=0.5):\n",
    "        y_pred = self.predict_proba(X)\n",
    "        return [0 if p < threshold else 1 for p in y_pred]\n",
    "\n",
    "    def score(self, y_true, X):\n",
    "        return roc_auc_score(y_true, self.predict_proba(X))\n",
    "\n",
    "    def feature_importance(self, X, n_display=20):\n",
    "        importances = pd.DataFrame(\n",
    "            {\"features\": X.columns, \"importance\": self.model.feature_importances_}\n",
    "        )\n",
    "        return importances.sort_values(\"importance\", ascending=False)[:n_display]\n",
    "\n",
    "    def pred_table(self, X, threshold=0.5, bet_only=True):\n",
    "        pred_table = X.copy()[[\"馬番\"]]  # []２回でDF、１回でシリーズ型\n",
    "        pred_table[\"pred\"] = self.predict(X, threshold)\n",
    "        if bet_only:\n",
    "            return pred_table[pred_table[\"pred\"] == 1][\"馬番\"]\n",
    "        else:\n",
    "            return pred_table\n",
    "\n",
    "    def fukusho_return(self, X, threshold=0.5):\n",
    "        pred_table = self.pred_table(X, threshold)\n",
    "        n_bets = len(pred_table)\n",
    "        money = -100 * n_bets\n",
    "        df = self.fukusho.copy()\n",
    "        df = df.merge(pred_table, left_index=True, right_index=True, how=\"right\")\n",
    "        for i in range(3):\n",
    "            money += df[df[\"win_{}\".format(i)] == df[\"馬番\"]][\"return_{}\".format(i)].sum()\n",
    "        return n_bets, money\n",
    "\n",
    "    def tansho_return(self, X, threshold=0.5):\n",
    "        pred_table = self.pred_table(X, threshold)\n",
    "        n_bets = len(pred_table)\n",
    "        money = -100 * n_bets\n",
    "        df = self.tansho.copy()\n",
    "        df = df.merge(pred_table, left_index=True, right_index=True, how=\"right\")\n",
    "        money += df[df[\"win\"] == df[\"馬番\"]][\"return\"].sum()\n",
    "        return n_bets, money\n",
    "\n",
    "class Peds:\n",
    "    def __init__(self,peds):\n",
    "        self.peds=peds\n",
    "    def encode(self):\n",
    "        df=self.peds.copy()\n",
    "        for column in df.columns:\n",
    "            df[column]=LabelEncoder().fit_transform(df[column].fillna(\"Na\"))\n",
    "        self.peds_e=df.astype(\"category\")\n",
    "\n",
    "def preprocessing(results):\n",
    "    df = results.copy()\n",
    "\n",
    "    # 着順に数字以外の文字列が含まれているものを取り除く\n",
    "    df = df[~(df[\"着順\"].astype(str).str.contains(\"\\D\"))]\n",
    "    df[\"着順\"] = df[\"着順\"].astype(int)\n",
    "\n",
    "    # 性齢を性と年齢に分ける\n",
    "    df[\"性\"] = df[\"性齢\"].map(lambda x: str(x)[0])\n",
    "    df[\"年齢\"] = df[\"性齢\"].map(lambda x: str(x)[1:]).astype(int)\n",
    "\n",
    "    # 馬体重を体重と体重変化に分ける\n",
    "    df[\"体重\"] = df[\"馬体重\"].str.split(\"(\", expand=True)[0].astype(int)\n",
    "    df[\"体重変化\"] = df[\"馬体重\"].str.split(\"(\", expand=True)[1].str[:-1].astype(int)\n",
    "\n",
    "    # データをint, floatに変換\n",
    "    df[\"単勝\"] = df[\"単勝\"].astype(float)\n",
    "\n",
    "    # 不要な列を削除\n",
    "    df.drop([\"タイム\", \"着差\", \"調教師\", \"性齢\", \"馬体重\", \"馬名\", \"騎手\"], axis=1, inplace=True)\n",
    "\n",
    "    df[\"date\"] = pd.to_datetime(df[\"date\"], format=\"%Y年%m月%d日\")\n",
    "    return df\n",
    "\n",
    "\n",
    "def split_data(df, test_size=0.3):\n",
    "    sorted_id_list = df.sort_values(\"date\").index.unique()\n",
    "    train_id_list = sorted_id_list[: round(len(sorted_id_list) * (1 - test_size))]\n",
    "    test_id_list = sorted_id_list[round(len(sorted_id_list) * (1 - test_size)) :]\n",
    "    train = df.loc[train_id_list].drop([\"date\"], axis=1)\n",
    "    test = df.loc[test_id_list].drop([\"date\"], axis=1)\n",
    "    return train, test\n",
    "\n",
    "\n",
    "def boosting_model(X_train, y_train):\n",
    "    params = {\n",
    "        \"num_leaves\": 4,\n",
    "        \"n_estimators\": 80,\n",
    "        \"class_weight\": \"balanced\",\n",
    "        \"random_state\": 100,\n",
    "    }\n",
    "    lgb_clf = lgb.LGBMClassifier(**params)\n",
    "    lgb_clf.fit(X_train.values, y_train.values)\n",
    "    return lgb_clf\n",
    "\n",
    "\n",
    "def process_categorical(df, target_columns):\n",
    "    df2 = df.copy()\n",
    "    for column in target_columns:\n",
    "        df2[column] = LabelEncoder().fit_transform(df2[column].fillna(\"Na\"))\n",
    "\n",
    "    # target_columns以外にカテゴリ変数があれば、ダミー変数にする。\n",
    "    df2 = pd.get_dummies(df2)\n",
    "\n",
    "    for column in target_columns:\n",
    "        df2[column] = df2[column].astype(\"category\")\n",
    "    return df2\n",
    "\n",
    "\n",
    "def gain(return_func, X, n_samples=100, lower=50, min_threshold=0.5):\n",
    "    gain = {}\n",
    "    n_samples = 100\n",
    "    for i in tqdm(range(n_samples)):\n",
    "        threshold = i / n_samples + min_threshold * (1 - i / n_samples)\n",
    "        n_bets, money = return_func(X, threshold)\n",
    "        if n_bets > lower:\n",
    "            gain[n_bets] = (n_bets * 100 + money) / (n_bets * 100)\n",
    "    return pd.Series(gain)\n",
    "\n",
    "\n",
    "def dict_to_df(tes2):\n",
    "    for key in tes2:\n",
    "        tes2[key].index = [key] * len(tes2[key])\n",
    "    results_new = pd.concat([tes2[key] for key in tes2], sort=False)\n",
    "    return results_new\n",
    "\n",
    "\n",
    "def update_data(old, new):\n",
    "    filtered_old = old[~old.index.isin(new.index)]\n",
    "    return pd.concat([filtered_old, new])"
   ]
  },
  {
   "cell_type": "markdown",
   "id": "f6893edc-5ebe-47ce-be15-a1c1faf805a0",
   "metadata": {},
   "source": [
    "## 1.1 データ(pickleファイル)"
   ]
  },
  {
   "cell_type": "code",
   "execution_count": 2,
   "id": "df4d3995-445b-43f8-8758-7655cce49832",
   "metadata": {
    "tags": []
   },
   "outputs": [],
   "source": [
    "results = pd.read_pickle(\"results_id.pickle\")\n",
    "results_p = preprocessing(results)\n",
    "horse = pd.read_pickle(\"horse_results.pickle\")\n",
    "return_tables = pd.read_pickle(\"return_tables.pickle\")\n",
    "peds = pd.read_pickle(\"peds.pickle\")\n",
    "results_2020 = pd.read_pickle(\"results_2021.pickle\")\n",
    "res_info = pd.read_pickle(\"results_info.pickle\")\n",
    "results_2020add = results_2020.merge(\n",
    "    res_info, left_index=True, right_index=True, how=\"inner\"\n",
    ")\n",
    "return_tables_2020=pd.read_pickle(\"return_tables_2020.pickle\")\n",
    "horse_2020=pd.read_pickle(\"horse_results2020.pickle\")\n",
    "peds_2020=pd.read_pickle(\"peds_2020.pickle\")"
   ]
  },
  {
   "cell_type": "code",
   "execution_count": 3,
   "id": "56da51d9-a70b-40c2-9b25-5f75a8a77ed0",
   "metadata": {},
   "outputs": [],
   "source": [
    "results_n=pd.concat([results,results_2020add])\n",
    "#len(results_n)==len(results)+len(results_2020add)\n",
    "#results_n.to_pickle(\"results_update.pickle\")"
   ]
  },
  {
   "cell_type": "code",
   "execution_count": 4,
   "id": "59f6ede5-28cc-4353-9af4-f55daf201fed",
   "metadata": {},
   "outputs": [],
   "source": [
    "horse_results=update_data(horse,horse_2020)\n",
    "#horse_results.to_pickle(\"uhorse_res.pickle\")"
   ]
  },
  {
   "cell_type": "code",
   "execution_count": 5,
   "id": "86b29a6a-92aa-49c4-9586-eedadf8d3aab",
   "metadata": {},
   "outputs": [],
   "source": [
    "peds_x=peds_2020.add_prefix(\"peds_\")\n",
    "peds_n=update_data(peds,peds_x)\n",
    "#peds_n.to_pickle(\"peds_n.pickle\")"
   ]
  },
  {
   "cell_type": "code",
   "execution_count": 6,
   "id": "f6c78cd6-f9d0-437e-8560-3cb185c0c9f2",
   "metadata": {},
   "outputs": [],
   "source": [
    "ureturn_tables=pd.concat([return_tables,return_tables_2020])\n",
    "#ureturn_tables.to_pickle(\"ureturn_tables.pickle\")"
   ]
  },
  {
   "cell_type": "code",
   "execution_count": 7,
   "id": "5541be7c-d8ed-4a5e-bc8d-9d6c3b4b0790",
   "metadata": {
    "tags": []
   },
   "outputs": [],
   "source": [
    "hr = HorseResults(horse_results)\n",
    "results_p=preprocessing(results_n)\n",
    "results_h = hr.merge_all(results_p, 5)\n",
    "results_h = hr.merge_all(results_h, 9)\n",
    "results_h = hr.merge_all(results_h)"
   ]
  },
  {
   "cell_type": "code",
   "execution_count": 8,
   "id": "136a515b-9cc5-4336-8566-c2f802dc5bb6",
   "metadata": {},
   "outputs": [],
   "source": [
    "p=Peds(peds_n)\n",
    "p.encode()"
   ]
  },
  {
   "cell_type": "code",
   "execution_count": 32,
   "id": "3de27c89-61d4-49c2-9f8e-59d52a81294e",
   "metadata": {
    "tags": []
   },
   "outputs": [],
   "source": [
    "#results_pe = results_h.merge(p.peds_e, left_on=\"horse_id\", right_index=True, how=\"left\")\n",
    "results_pe = results_h.merge(peds_n, left_on=\"horse_id\", right_index=True, how=\"left\")"
   ]
  },
  {
   "cell_type": "code",
   "execution_count": 34,
   "id": "b445b9b3-40d2-4bdb-9a42-f3e94f100d85",
   "metadata": {},
   "outputs": [],
   "source": [
    "categorical_columns = [\"horse_id\"] + [\"peds_{}\".format(i) for i in range(62)]\n",
    "results_d = process_categorical(results_pe, categorical_columns)"
   ]
  },
  {
   "cell_type": "code",
   "execution_count": 35,
   "id": "d1b7fe71-0045-48a2-a8e3-4a88893774fc",
   "metadata": {
    "tags": []
   },
   "outputs": [],
   "source": [
    "results_d[\"rank\"] = results_d[\"着順\"].map(lambda x: 1 if x < 4 else 0)\n",
    "results_r = results_d.drop([\"着順\", \"単勝\", \"人気\"], axis=1)"
   ]
  },
  {
   "cell_type": "markdown",
   "id": "3599261b-46c8-456f-83cd-fe4534f47519",
   "metadata": {},
   "source": [
    "## 1.2 勾配ブースティング決定木による学習"
   ]
  },
  {
   "cell_type": "code",
   "execution_count": 46,
   "id": "53fe37c9-7f4d-479e-9421-9c84d6e44179",
   "metadata": {},
   "outputs": [],
   "source": [
    "train, test = split_data(results_r)\n",
    "X_train = train.drop([\"rank\"], axis=1)\n",
    "y_train = train[\"rank\"]\n",
    "X_test = test.drop([\"rank\"], axis=1)\n",
    "y_test = test[\"rank\"]"
   ]
  },
  {
   "cell_type": "code",
   "execution_count": 47,
   "id": "a95091e4-1354-4057-a626-66880bbeb5fe",
   "metadata": {},
   "outputs": [
    {
     "data": {
      "text/plain": [
       "LGBMClassifier(class_weight='balanced', n_estimators=80, num_leaves=4,\n",
       "               random_state=100)"
      ]
     },
     "execution_count": 47,
     "metadata": {},
     "output_type": "execute_result"
    }
   ],
   "source": [
    "params = {\n",
    "    \"num_leaves\": 4,\n",
    "    \"n_estimators\": 80,\n",
    "    \"class_weight\": \"balanced\",\n",
    "    \"random_state\": 100,\n",
    "}\n",
    "lgb_clf = lgb.LGBMClassifier(**params)\n",
    "lgb_clf.fit(X_train.values, y_train.values)"
   ]
  },
  {
   "cell_type": "code",
   "execution_count": 48,
   "id": "9498efad-569a-48e6-ab7b-79ad54b1f003",
   "metadata": {},
   "outputs": [
    {
     "data": {
      "text/html": [
       "<div>\n",
       "<style scoped>\n",
       "    .dataframe tbody tr th:only-of-type {\n",
       "        vertical-align: middle;\n",
       "    }\n",
       "\n",
       "    .dataframe tbody tr th {\n",
       "        vertical-align: top;\n",
       "    }\n",
       "\n",
       "    .dataframe thead th {\n",
       "        text-align: right;\n",
       "    }\n",
       "</style>\n",
       "<table border=\"1\" class=\"dataframe\">\n",
       "  <thead>\n",
       "    <tr style=\"text-align: right;\">\n",
       "      <th></th>\n",
       "      <th>features</th>\n",
       "      <th>importance</th>\n",
       "    </tr>\n",
       "  </thead>\n",
       "  <tbody>\n",
       "    <tr>\n",
       "      <th>7</th>\n",
       "      <td>着順平均5R分</td>\n",
       "      <td>29</td>\n",
       "    </tr>\n",
       "    <tr>\n",
       "      <th>3</th>\n",
       "      <td>horse_id</td>\n",
       "      <td>20</td>\n",
       "    </tr>\n",
       "    <tr>\n",
       "      <th>8</th>\n",
       "      <td>賞金平均5R分</td>\n",
       "      <td>19</td>\n",
       "    </tr>\n",
       "    <tr>\n",
       "      <th>5</th>\n",
       "      <td>体重</td>\n",
       "      <td>15</td>\n",
       "    </tr>\n",
       "    <tr>\n",
       "      <th>11</th>\n",
       "      <td>着順平均allR分</td>\n",
       "      <td>15</td>\n",
       "    </tr>\n",
       "    <tr>\n",
       "      <th>241</th>\n",
       "      <td>jockey_id_05339</td>\n",
       "      <td>14</td>\n",
       "    </tr>\n",
       "    <tr>\n",
       "      <th>2</th>\n",
       "      <td>斤量</td>\n",
       "      <td>13</td>\n",
       "    </tr>\n",
       "    <tr>\n",
       "      <th>9</th>\n",
       "      <td>着順平均9R分</td>\n",
       "      <td>13</td>\n",
       "    </tr>\n",
       "    <tr>\n",
       "      <th>136</th>\n",
       "      <td>jockey_id_01088</td>\n",
       "      <td>12</td>\n",
       "    </tr>\n",
       "    <tr>\n",
       "      <th>101</th>\n",
       "      <td>jockey_id_01014</td>\n",
       "      <td>8</td>\n",
       "    </tr>\n",
       "  </tbody>\n",
       "</table>\n",
       "</div>"
      ],
      "text/plain": [
       "            features  importance\n",
       "7            着順平均5R分          29\n",
       "3           horse_id          20\n",
       "8            賞金平均5R分          19\n",
       "5                 体重          15\n",
       "11         着順平均allR分          15\n",
       "241  jockey_id_05339          14\n",
       "2                 斤量          13\n",
       "9            着順平均9R分          13\n",
       "136  jockey_id_01088          12\n",
       "101  jockey_id_01014           8"
      ]
     },
     "execution_count": 48,
     "metadata": {},
     "output_type": "execute_result"
    }
   ],
   "source": [
    "me = ModelEvaluator(lgb_clf, return_tables)\n",
    "me.feature_importance(X_test, 10)"
   ]
  },
  {
   "cell_type": "markdown",
   "id": "35243724-4a28-45cb-904e-8f23d653d723",
   "metadata": {},
   "source": [
    "## 1.3 回収率(絶対評価)"
   ]
  },
  {
   "cell_type": "code",
   "execution_count": 27,
   "id": "09d576ce-27a4-4544-8de6-500da092e30b",
   "metadata": {},
   "outputs": [
    {
     "data": {
      "application/vnd.jupyter.widget-view+json": {
       "model_id": "d9fa610cb1bd424da5514ff0e36a1c5d",
       "version_major": 2,
       "version_minor": 0
      },
      "text/plain": [
       "  0%|          | 0/100 [00:00<?, ?it/s]"
      ]
     },
     "metadata": {},
     "output_type": "display_data"
    }
   ],
   "source": [
    "baseline = gain(me.tansho_return, X_test)"
   ]
  },
  {
   "cell_type": "code",
   "execution_count": 28,
   "id": "6145249d-1acd-404f-99ad-a80b9929d1a2",
   "metadata": {},
   "outputs": [
    {
     "data": {
      "text/plain": [
       "<AxesSubplot:>"
      ]
     },
     "execution_count": 28,
     "metadata": {},
     "output_type": "execute_result"
    },
    {
     "data": {
      "image/png": "[encoded data removed]",
      "text/plain": [
       "<Figure size 432x288 with 1 Axes>"
      ]
     },
     "metadata": {
      "needs_background": "light"
     },
     "output_type": "display_data"
    }
   ],
   "source": [
    "baseline.rename(\"baseline\").plot(legend=True)"
   ]
  },
  {
   "cell_type": "code",
   "execution_count": 30,
   "id": "c69e7d2d-c91b-4de7-a127-1fbd7ca5066a",
   "metadata": {},
   "outputs": [
    {
     "data": {
      "text/plain": [
       "R\n",
       "01    0.387451\n",
       "02    0.446652\n",
       "03    0.469825\n",
       "04    0.460996\n",
       "05    0.497705\n",
       "06    0.487799\n",
       "07    0.508677\n",
       "08    0.522680\n",
       "09    0.564831\n",
       "10    0.537400\n",
       "11    0.543513\n",
       "12    0.499253\n",
       "Name: proba, dtype: float64"
      ]
     },
     "execution_count": 30,
     "metadata": {},
     "output_type": "execute_result"
    }
   ],
   "source": [
    "proba_table = X_test[[\"horse_id\"]].copy()\n",
    "proba_table[\"proba\"] = me.predict_proba(X_test)\n",
    "proba_table[\"R\"] = proba_table.index.map(lambda x: str(x)[-2:])\n",
    "proba_table.groupby(\"R\")[\"proba\"].mean()"
   ]
  },
  {
   "cell_type": "markdown",
   "id": "d6d9378d-c711-43c6-9406-55136713787b",
   "metadata": {},
   "source": [
    "1Rと9Rでは馬の強さに結構な差があることがわかる。"
   ]
  },
  {
   "cell_type": "markdown",
   "id": "86ae9cfd-d552-4fb9-8c79-5d3ddd3d7fa2",
   "metadata": {},
   "source": [
    "# 2.標準化"
   ]
  },
  {
   "cell_type": "markdown",
   "id": "2dfc56b9-2be2-47dd-b04c-0ba267110623",
   "metadata": {},
   "source": [
    "## 2.1 transformとapply"
   ]
  },
  {
   "cell_type": "code",
   "execution_count": 33,
   "id": "2691d3f0-3b03-411f-8de2-c7c6208b175c",
   "metadata": {},
   "outputs": [
    {
     "data": {
      "text/plain": [
       "201903030101    5.450936\n",
       "201903030102    5.475330\n",
       "201903030103    5.034245\n",
       "201903030104    4.439839\n",
       "201903030105    8.138268\n",
       "                  ...   \n",
       "201909050808    9.511182\n",
       "201909050809    8.319482\n",
       "201909050810    7.918869\n",
       "201909050811    6.401699\n",
       "201909050812    8.058497\n",
       "Name: proba, Length: 956, dtype: float64"
      ]
     },
     "execution_count": 33,
     "metadata": {},
     "output_type": "execute_result"
    }
   ],
   "source": [
    "proba_table.groupby(level=0)[\"proba\"].apply(np.sum)"
   ]
  },
  {
   "cell_type": "code",
   "execution_count": 34,
   "id": "9fa777cc-7c26-49d2-aa3f-7ec5f99b36a3",
   "metadata": {},
   "outputs": [
    {
     "data": {
      "text/plain": [
       "201906040206    5.074795\n",
       "201906040206    5.074795\n",
       "201906040206    5.074795\n",
       "201906040206    5.074795\n",
       "201906040206    5.074795\n",
       "                  ...   \n",
       "201906050809    9.894587\n",
       "201906050809    9.894587\n",
       "201906050809    9.894587\n",
       "201906050809    9.894587\n",
       "201906050809    9.894587\n",
       "Name: proba, Length: 12870, dtype: float64"
      ]
     },
     "execution_count": 34,
     "metadata": {},
     "output_type": "execute_result"
    }
   ],
   "source": [
    "proba_table.groupby(level=0)[\"proba\"].transform(np.sum)"
   ]
  },
  {
   "cell_type": "code",
   "execution_count": 36,
   "id": "ed0c385b-1b6e-4912-a42f-28de7d7a5bad",
   "metadata": {},
   "outputs": [],
   "source": [
    "standard_scaler = lambda x: (x - x.mean()) / x.std()\n",
    "proba_std = proba_table.groupby(level=0)[\"proba\"].transform(standard_scaler)"
   ]
  },
  {
   "cell_type": "code",
   "execution_count": 37,
   "id": "4cd8f257-695f-4fd0-ad24-ccd80b93efc8",
   "metadata": {},
   "outputs": [
    {
     "data": {
      "text/plain": [
       "<AxesSubplot:>"
      ]
     },
     "execution_count": 37,
     "metadata": {},
     "output_type": "execute_result"
    },
    {
     "data": {
      "image/png": "[encoded data removed]",
      "text/plain": [
       "<Figure size 432x288 with 1 Axes>"
      ]
     },
     "metadata": {
      "needs_background": "light"
     },
     "output_type": "display_data"
    }
   ],
   "source": [
    "proba_std.hist()"
   ]
  },
  {
   "cell_type": "code",
   "execution_count": 38,
   "id": "01837007-4aad-4cf4-b892-b258ec5f9238",
   "metadata": {},
   "outputs": [
    {
     "data": {
      "text/plain": [
       "<AxesSubplot:>"
      ]
     },
     "execution_count": 38,
     "metadata": {},
     "output_type": "execute_result"
    },
    {
     "data": {
      "image/png": "[encoded data removed]",
      "text/plain": [
       "<Figure size 432x288 with 1 Axes>"
      ]
     },
     "metadata": {
      "needs_background": "light"
     },
     "output_type": "display_data"
    }
   ],
   "source": [
    "proba_minmax = (proba_std - proba_std.min()) / (proba_std.max() - proba_std.min())\n",
    "proba_minmax.hist()"
   ]
  },
  {
   "cell_type": "markdown",
   "id": "f22e1c87-1b37-483d-b458-ae90e23abcb6",
   "metadata": {},
   "source": [
    "## 2.2 回収率(相対評価)"
   ]
  },
  {
   "cell_type": "code",
   "execution_count": 46,
   "id": "c3bbbc72-3807-4f24-bfa9-2ee6de3d24c5",
   "metadata": {},
   "outputs": [],
   "source": [
    "me = ModelEvaluator(lgb_clf, return_tables,std=True)"
   ]
  },
  {
   "cell_type": "code",
   "execution_count": 47,
   "id": "9233e60a-0073-4cab-90c0-791ad8f38147",
   "metadata": {},
   "outputs": [
    {
     "data": {
      "application/vnd.jupyter.widget-view+json": {
       "model_id": "bdbd234e46d347c0acc63095e514f224",
       "version_major": 2,
       "version_minor": 0
      },
      "text/plain": [
       "  0%|          | 0/100 [00:00<?, ?it/s]"
      ]
     },
     "metadata": {},
     "output_type": "display_data"
    }
   ],
   "source": [
    "gain_std = gain(me.tansho_return, X_test)"
   ]
  },
  {
   "cell_type": "code",
   "execution_count": 48,
   "id": "94e2fb32-7d15-4e8a-8d35-b50045634035",
   "metadata": {},
   "outputs": [
    {
     "data": {
      "text/plain": [
       "<AxesSubplot:>"
      ]
     },
     "execution_count": 48,
     "metadata": {},
     "output_type": "execute_result"
    },
    {
     "data": {
      "image/png": "[encoded data removed]",
      "text/plain": [
       "<Figure size 432x288 with 1 Axes>"
      ]
     },
     "metadata": {
      "needs_background": "light"
     },
     "output_type": "display_data"
    }
   ],
   "source": [
    "baseline.rename(\"baseline\").plot(legend=True)\n",
    "gain_std.rename(\"std\").plot(legend=True)"
   ]
  },
  {
   "cell_type": "code",
   "execution_count": 49,
   "id": "552ed36a-307f-44ae-a260-53ad27ad5ad3",
   "metadata": {},
   "outputs": [
    {
     "data": {
      "text/plain": [
       "1.226923076923077"
      ]
     },
     "execution_count": 49,
     "metadata": {},
     "output_type": "execute_result"
    }
   ],
   "source": [
    "gain_std.max()"
   ]
  },
  {
   "cell_type": "code",
   "execution_count": 51,
   "id": "01d60d34-0bf6-4482-abd3-aa6564123820",
   "metadata": {},
   "outputs": [
    {
     "data": {
      "text/plain": [
       "671    0.831595\n",
       "603    0.879104\n",
       "560    0.883214\n",
       "501    0.948503\n",
       "457    0.961269\n",
       "413    0.957869\n",
       "371    0.938814\n",
       "339    0.978171\n",
       "312    1.000641\n",
       "283    1.006007\n",
       "262    1.075954\n",
       "242    1.110331\n",
       "216    1.137500\n",
       "198    1.108081\n",
       "175    1.190857\n",
       "156    1.003846\n",
       "141    1.018440\n",
       "125    1.088800\n",
       "107    1.083178\n",
       "98     1.006122\n",
       "94     1.030851\n",
       "87     1.064368\n",
       "77     1.085714\n",
       "67     1.028358\n",
       "63     1.093651\n",
       "52     1.226923\n",
       "dtype: float64"
      ]
     },
     "execution_count": 51,
     "metadata": {},
     "output_type": "execute_result"
    }
   ],
   "source": [
    "gain_std[50:]"
   ]
  },
  {
   "cell_type": "code",
   "execution_count": 55,
   "id": "8935d717-968e-4f16-a5d6-436f6cbdb772",
   "metadata": {},
   "outputs": [
    {
     "data": {
      "text/plain": [
       "175"
      ]
     },
     "execution_count": 55,
     "metadata": {},
     "output_type": "execute_result"
    }
   ],
   "source": [
    "np.sum(me.predict(X_test,threshold=0.82))"
   ]
  },
  {
   "cell_type": "code",
   "execution_count": 56,
   "id": "9aa4f4d8-976b-4ea0-bb43-6812148d6af0",
   "metadata": {},
   "outputs": [
    {
     "data": {
      "text/plain": [
       "201906040206    12\n",
       "201906040203     2\n",
       "201906040201     5\n",
       "201906040205     7\n",
       "201909040208     7\n",
       "                ..\n",
       "201909050711    11\n",
       "201909050709     4\n",
       "201906050802    14\n",
       "201906050805     6\n",
       "201906050804     9\n",
       "Name: 馬番, Length: 175, dtype: int64"
      ]
     },
     "execution_count": 56,
     "metadata": {},
     "output_type": "execute_result"
    }
   ],
   "source": [
    "me.pred_table(X_test,threshold=0.82)"
   ]
  },
  {
   "cell_type": "code",
   "execution_count": 58,
   "id": "f015c410-1eaf-47a8-9203-a108e6bc302d",
   "metadata": {},
   "outputs": [],
   "source": [
    "_, sample = split_data(results_m)\n",
    "bets = sample[[\"着順\", \"人気\", \"単勝\", \"馬番\"]].merge(\n",
    "    me.pred_table(X_test, threshold=0.82),\n",
    "    left_index=True,\n",
    "    right_index=True,\n",
    "    how=\"right\",\n",
    ")"
   ]
  },
  {
   "cell_type": "code",
   "execution_count": 59,
   "id": "92fd6969-2b54-49cb-a82b-bded441dc33c",
   "metadata": {},
   "outputs": [
    {
     "data": {
      "text/html": [
       "<div>\n",
       "<style scoped>\n",
       "    .dataframe tbody tr th:only-of-type {\n",
       "        vertical-align: middle;\n",
       "    }\n",
       "\n",
       "    .dataframe tbody tr th {\n",
       "        vertical-align: top;\n",
       "    }\n",
       "\n",
       "    .dataframe thead th {\n",
       "        text-align: right;\n",
       "    }\n",
       "</style>\n",
       "<table border=\"1\" class=\"dataframe\">\n",
       "  <thead>\n",
       "    <tr style=\"text-align: right;\">\n",
       "      <th></th>\n",
       "      <th>着順</th>\n",
       "      <th>人気</th>\n",
       "      <th>単勝</th>\n",
       "      <th>馬番_x</th>\n",
       "      <th>馬番_y</th>\n",
       "    </tr>\n",
       "  </thead>\n",
       "  <tbody>\n",
       "    <tr>\n",
       "      <th>201903030102</th>\n",
       "      <td>1</td>\n",
       "      <td>4.0</td>\n",
       "      <td>8.0</td>\n",
       "      <td>1</td>\n",
       "      <td>14</td>\n",
       "    </tr>\n",
       "    <tr>\n",
       "      <th>201903030102</th>\n",
       "      <td>2</td>\n",
       "      <td>1.0</td>\n",
       "      <td>2.7</td>\n",
       "      <td>14</td>\n",
       "      <td>14</td>\n",
       "    </tr>\n",
       "    <tr>\n",
       "      <th>201903030102</th>\n",
       "      <td>3</td>\n",
       "      <td>8.0</td>\n",
       "      <td>17.4</td>\n",
       "      <td>10</td>\n",
       "      <td>14</td>\n",
       "    </tr>\n",
       "    <tr>\n",
       "      <th>201903030102</th>\n",
       "      <td>4</td>\n",
       "      <td>6.0</td>\n",
       "      <td>12.3</td>\n",
       "      <td>3</td>\n",
       "      <td>14</td>\n",
       "    </tr>\n",
       "    <tr>\n",
       "      <th>201903030102</th>\n",
       "      <td>5</td>\n",
       "      <td>2.0</td>\n",
       "      <td>5.5</td>\n",
       "      <td>9</td>\n",
       "      <td>14</td>\n",
       "    </tr>\n",
       "    <tr>\n",
       "      <th>...</th>\n",
       "      <td>...</td>\n",
       "      <td>...</td>\n",
       "      <td>...</td>\n",
       "      <td>...</td>\n",
       "      <td>...</td>\n",
       "    </tr>\n",
       "    <tr>\n",
       "      <th>201909050711</th>\n",
       "      <td>14</td>\n",
       "      <td>12.0</td>\n",
       "      <td>83.1</td>\n",
       "      <td>9</td>\n",
       "      <td>11</td>\n",
       "    </tr>\n",
       "    <tr>\n",
       "      <th>201909050711</th>\n",
       "      <td>15</td>\n",
       "      <td>17.0</td>\n",
       "      <td>418.1</td>\n",
       "      <td>7</td>\n",
       "      <td>11</td>\n",
       "    </tr>\n",
       "    <tr>\n",
       "      <th>201909050711</th>\n",
       "      <td>16</td>\n",
       "      <td>16.0</td>\n",
       "      <td>279.8</td>\n",
       "      <td>13</td>\n",
       "      <td>11</td>\n",
       "    </tr>\n",
       "    <tr>\n",
       "      <th>201909050711</th>\n",
       "      <td>17</td>\n",
       "      <td>9.0</td>\n",
       "      <td>35.9</td>\n",
       "      <td>16</td>\n",
       "      <td>11</td>\n",
       "    </tr>\n",
       "    <tr>\n",
       "      <th>201909050711</th>\n",
       "      <td>18</td>\n",
       "      <td>18.0</td>\n",
       "      <td>496.7</td>\n",
       "      <td>14</td>\n",
       "      <td>11</td>\n",
       "    </tr>\n",
       "  </tbody>\n",
       "</table>\n",
       "<p>2554 rows × 5 columns</p>\n",
       "</div>"
      ],
      "text/plain": [
       "              着順    人気     単勝  馬番_x  馬番_y\n",
       "201903030102   1   4.0    8.0     1    14\n",
       "201903030102   2   1.0    2.7    14    14\n",
       "201903030102   3   8.0   17.4    10    14\n",
       "201903030102   4   6.0   12.3     3    14\n",
       "201903030102   5   2.0    5.5     9    14\n",
       "...           ..   ...    ...   ...   ...\n",
       "201909050711  14  12.0   83.1     9    11\n",
       "201909050711  15  17.0  418.1     7    11\n",
       "201909050711  16  16.0  279.8    13    11\n",
       "201909050711  17   9.0   35.9    16    11\n",
       "201909050711  18  18.0  496.7    14    11\n",
       "\n",
       "[2554 rows x 5 columns]"
      ]
     },
     "execution_count": 59,
     "metadata": {},
     "output_type": "execute_result"
    }
   ],
   "source": [
    "bets"
   ]
  },
  {
   "cell_type": "markdown",
   "id": "871929d3-8080-4d7c-959e-70a205c488b8",
   "metadata": {},
   "source": [
    "馬番Xは元々のもので、馬番Yがそのレースでかけた馬の馬番"
   ]
  },
  {
   "cell_type": "code",
   "execution_count": 60,
   "id": "585e2c2d-38ea-4e34-bcba-8fe047c60d2f",
   "metadata": {},
   "outputs": [
    {
     "data": {
      "text/plain": [
       "1.0     86\n",
       "2.0     41\n",
       "3.0     16\n",
       "4.0     12\n",
       "5.0      6\n",
       "7.0      5\n",
       "10.0     2\n",
       "8.0      2\n",
       "9.0      2\n",
       "6.0      2\n",
       "12.0     1\n",
       "Name: 人気, dtype: int64"
      ]
     },
     "execution_count": 60,
     "metadata": {},
     "output_type": "execute_result"
    }
   ],
   "source": [
    "bets[bets[\"馬番_x\"] == bets[\"馬番_y\"]][\"人気\"].value_counts()"
   ]
  },
  {
   "cell_type": "markdown",
   "id": "a060bb95-2154-4657-b63e-7065250c8a3b",
   "metadata": {},
   "source": [
    "何番人気に賭けた枚数"
   ]
  },
  {
   "cell_type": "code",
   "execution_count": 61,
   "id": "a83ce74f-5aea-4e94-9f43-f428ad5364ee",
   "metadata": {},
   "outputs": [
    {
     "data": {
      "text/plain": [
       "1.0    31\n",
       "2.0    12\n",
       "3.0     2\n",
       "4.0     2\n",
       "7.0     1\n",
       "9.0     1\n",
       "5.0     1\n",
       "Name: 人気, dtype: int64"
      ]
     },
     "execution_count": 61,
     "metadata": {},
     "output_type": "execute_result"
    }
   ],
   "source": [
    "bets[(bets[\"馬番_x\"]==bets[\"馬番_y\"])&(bets[\"着順\"]==1)][\"人気\"].value_counts()"
   ]
  },
  {
   "cell_type": "code",
   "execution_count": 62,
   "id": "4a72d4c7-9afa-4d28-bbc1-208b4c3a7637",
   "metadata": {},
   "outputs": [
    {
     "data": {
      "text/plain": [
       "0.2857142857142857"
      ]
     },
     "execution_count": 62,
     "metadata": {},
     "output_type": "execute_result"
    }
   ],
   "source": [
    "len(bets[(bets[\"馬番_x\"]==bets[\"馬番_y\"])&(bets[\"着順\"]==1)][\"人気\"])/len(bets[bets[\"馬番_x\"] == bets[\"馬番_y\"]][\"人気\"])"
   ]
  },
  {
   "cell_type": "code",
   "execution_count": 64,
   "id": "66448412-8252-4ee9-8c65-c82d04f61db3",
   "metadata": {},
   "outputs": [
    {
     "data": {
      "text/html": [
       "<div>\n",
       "<style scoped>\n",
       "    .dataframe tbody tr th:only-of-type {\n",
       "        vertical-align: middle;\n",
       "    }\n",
       "\n",
       "    .dataframe tbody tr th {\n",
       "        vertical-align: top;\n",
       "    }\n",
       "\n",
       "    .dataframe thead th {\n",
       "        text-align: right;\n",
       "    }\n",
       "</style>\n",
       "<table border=\"1\" class=\"dataframe\">\n",
       "  <thead>\n",
       "    <tr style=\"text-align: right;\">\n",
       "      <th></th>\n",
       "      <th>win</th>\n",
       "      <th>return</th>\n",
       "      <th>馬番</th>\n",
       "    </tr>\n",
       "  </thead>\n",
       "  <tbody>\n",
       "    <tr>\n",
       "      <th>201903030102</th>\n",
       "      <td>1.0</td>\n",
       "      <td>800.0</td>\n",
       "      <td>14</td>\n",
       "    </tr>\n",
       "    <tr>\n",
       "      <th>201904030102</th>\n",
       "      <td>12.0</td>\n",
       "      <td>310.0</td>\n",
       "      <td>13</td>\n",
       "    </tr>\n",
       "    <tr>\n",
       "      <th>201904030112</th>\n",
       "      <td>15.0</td>\n",
       "      <td>280.0</td>\n",
       "      <td>15</td>\n",
       "    </tr>\n",
       "    <tr>\n",
       "      <th>201904030206</th>\n",
       "      <td>15.0</td>\n",
       "      <td>440.0</td>\n",
       "      <td>1</td>\n",
       "    </tr>\n",
       "    <tr>\n",
       "      <th>201904030306</th>\n",
       "      <td>4.0</td>\n",
       "      <td>750.0</td>\n",
       "      <td>6</td>\n",
       "    </tr>\n",
       "    <tr>\n",
       "      <th>...</th>\n",
       "      <td>...</td>\n",
       "      <td>...</td>\n",
       "      <td>...</td>\n",
       "    </tr>\n",
       "    <tr>\n",
       "      <th>201909050705</th>\n",
       "      <td>2.0</td>\n",
       "      <td>470.0</td>\n",
       "      <td>16</td>\n",
       "    </tr>\n",
       "    <tr>\n",
       "      <th>201909050706</th>\n",
       "      <td>12.0</td>\n",
       "      <td>220.0</td>\n",
       "      <td>13</td>\n",
       "    </tr>\n",
       "    <tr>\n",
       "      <th>201909050709</th>\n",
       "      <td>4.0</td>\n",
       "      <td>280.0</td>\n",
       "      <td>4</td>\n",
       "    </tr>\n",
       "    <tr>\n",
       "      <th>201909050711</th>\n",
       "      <td>5.0</td>\n",
       "      <td>210.0</td>\n",
       "      <td>5</td>\n",
       "    </tr>\n",
       "    <tr>\n",
       "      <th>201909050711</th>\n",
       "      <td>5.0</td>\n",
       "      <td>210.0</td>\n",
       "      <td>11</td>\n",
       "    </tr>\n",
       "  </tbody>\n",
       "</table>\n",
       "<p>175 rows × 3 columns</p>\n",
       "</div>"
      ],
      "text/plain": [
       "               win  return  馬番\n",
       "201903030102   1.0   800.0  14\n",
       "201904030102  12.0   310.0  13\n",
       "201904030112  15.0   280.0  15\n",
       "201904030206  15.0   440.0   1\n",
       "201904030306   4.0   750.0   6\n",
       "...            ...     ...  ..\n",
       "201909050705   2.0   470.0  16\n",
       "201909050706  12.0   220.0  13\n",
       "201909050709   4.0   280.0   4\n",
       "201909050711   5.0   210.0   5\n",
       "201909050711   5.0   210.0  11\n",
       "\n",
       "[175 rows x 3 columns]"
      ]
     },
     "execution_count": 64,
     "metadata": {},
     "output_type": "execute_result"
    }
   ],
   "source": [
    "rt = Return(return_tables)\n",
    "bets = rt.tansho.merge(\n",
    "    me.pred_table(X_test, threshold=0.82),\n",
    "    left_index=True,\n",
    "    right_index=True,\n",
    "    how=\"right\",\n",
    ")\n",
    "bets"
   ]
  },
  {
   "cell_type": "code",
   "execution_count": 66,
   "id": "c31126f3-9133-4360-b4df-b04ecc8c58ea",
   "metadata": {
    "collapsed": true,
    "jupyter": {
     "outputs_hidden": true
    },
    "tags": []
   },
   "outputs": [
    {
     "data": {
      "text/html": [
       "<div>\n",
       "<style scoped>\n",
       "    .dataframe tbody tr th:only-of-type {\n",
       "        vertical-align: middle;\n",
       "    }\n",
       "\n",
       "    .dataframe tbody tr th {\n",
       "        vertical-align: top;\n",
       "    }\n",
       "\n",
       "    .dataframe thead th {\n",
       "        text-align: right;\n",
       "    }\n",
       "</style>\n",
       "<table border=\"1\" class=\"dataframe\">\n",
       "  <thead>\n",
       "    <tr style=\"text-align: right;\">\n",
       "      <th></th>\n",
       "      <th>win</th>\n",
       "      <th>return</th>\n",
       "      <th>馬番</th>\n",
       "    </tr>\n",
       "  </thead>\n",
       "  <tbody>\n",
       "    <tr>\n",
       "      <th>201904030112</th>\n",
       "      <td>15.0</td>\n",
       "      <td>280.0</td>\n",
       "      <td>15</td>\n",
       "    </tr>\n",
       "    <tr>\n",
       "      <th>201905040105</th>\n",
       "      <td>16.0</td>\n",
       "      <td>1310.0</td>\n",
       "      <td>16</td>\n",
       "    </tr>\n",
       "    <tr>\n",
       "      <th>201905040504</th>\n",
       "      <td>5.0</td>\n",
       "      <td>440.0</td>\n",
       "      <td>5</td>\n",
       "    </tr>\n",
       "    <tr>\n",
       "      <th>201905040806</th>\n",
       "      <td>16.0</td>\n",
       "      <td>210.0</td>\n",
       "      <td>16</td>\n",
       "    </tr>\n",
       "    <tr>\n",
       "      <th>201905040812</th>\n",
       "      <td>13.0</td>\n",
       "      <td>190.0</td>\n",
       "      <td>13</td>\n",
       "    </tr>\n",
       "    <tr>\n",
       "      <th>201905050106</th>\n",
       "      <td>12.0</td>\n",
       "      <td>170.0</td>\n",
       "      <td>12</td>\n",
       "    </tr>\n",
       "    <tr>\n",
       "      <th>201905050202</th>\n",
       "      <td>14.0</td>\n",
       "      <td>120.0</td>\n",
       "      <td>14</td>\n",
       "    </tr>\n",
       "    <tr>\n",
       "      <th>201905050205</th>\n",
       "      <td>1.0</td>\n",
       "      <td>140.0</td>\n",
       "      <td>1</td>\n",
       "    </tr>\n",
       "    <tr>\n",
       "      <th>201905050206</th>\n",
       "      <td>4.0</td>\n",
       "      <td>190.0</td>\n",
       "      <td>4</td>\n",
       "    </tr>\n",
       "    <tr>\n",
       "      <th>201905050408</th>\n",
       "      <td>14.0</td>\n",
       "      <td>230.0</td>\n",
       "      <td>14</td>\n",
       "    </tr>\n",
       "    <tr>\n",
       "      <th>201905050505</th>\n",
       "      <td>5.0</td>\n",
       "      <td>310.0</td>\n",
       "      <td>5</td>\n",
       "    </tr>\n",
       "    <tr>\n",
       "      <th>201905050702</th>\n",
       "      <td>12.0</td>\n",
       "      <td>300.0</td>\n",
       "      <td>12</td>\n",
       "    </tr>\n",
       "    <tr>\n",
       "      <th>201905050805</th>\n",
       "      <td>4.0</td>\n",
       "      <td>810.0</td>\n",
       "      <td>4</td>\n",
       "    </tr>\n",
       "    <tr>\n",
       "      <th>201906040201</th>\n",
       "      <td>5.0</td>\n",
       "      <td>230.0</td>\n",
       "      <td>5</td>\n",
       "    </tr>\n",
       "    <tr>\n",
       "      <th>201906040203</th>\n",
       "      <td>2.0</td>\n",
       "      <td>350.0</td>\n",
       "      <td>2</td>\n",
       "    </tr>\n",
       "    <tr>\n",
       "      <th>201906040205</th>\n",
       "      <td>7.0</td>\n",
       "      <td>200.0</td>\n",
       "      <td>7</td>\n",
       "    </tr>\n",
       "    <tr>\n",
       "      <th>201906040305</th>\n",
       "      <td>4.0</td>\n",
       "      <td>380.0</td>\n",
       "      <td>4</td>\n",
       "    </tr>\n",
       "    <tr>\n",
       "      <th>201906040402</th>\n",
       "      <td>13.0</td>\n",
       "      <td>180.0</td>\n",
       "      <td>13</td>\n",
       "    </tr>\n",
       "    <tr>\n",
       "      <th>201906040505</th>\n",
       "      <td>12.0</td>\n",
       "      <td>180.0</td>\n",
       "      <td>12</td>\n",
       "    </tr>\n",
       "    <tr>\n",
       "      <th>201906040603</th>\n",
       "      <td>10.0</td>\n",
       "      <td>250.0</td>\n",
       "      <td>10</td>\n",
       "    </tr>\n",
       "    <tr>\n",
       "      <th>201906040803</th>\n",
       "      <td>16.0</td>\n",
       "      <td>190.0</td>\n",
       "      <td>16</td>\n",
       "    </tr>\n",
       "    <tr>\n",
       "      <th>201906050104</th>\n",
       "      <td>8.0</td>\n",
       "      <td>380.0</td>\n",
       "      <td>8</td>\n",
       "    </tr>\n",
       "    <tr>\n",
       "      <th>201906050301</th>\n",
       "      <td>7.0</td>\n",
       "      <td>290.0</td>\n",
       "      <td>7</td>\n",
       "    </tr>\n",
       "    <tr>\n",
       "      <th>201906050401</th>\n",
       "      <td>9.0</td>\n",
       "      <td>430.0</td>\n",
       "      <td>9</td>\n",
       "    </tr>\n",
       "    <tr>\n",
       "      <th>201906050501</th>\n",
       "      <td>15.0</td>\n",
       "      <td>290.0</td>\n",
       "      <td>15</td>\n",
       "    </tr>\n",
       "    <tr>\n",
       "      <th>201906050704</th>\n",
       "      <td>2.0</td>\n",
       "      <td>180.0</td>\n",
       "      <td>2</td>\n",
       "    </tr>\n",
       "    <tr>\n",
       "      <th>201906050804</th>\n",
       "      <td>9.0</td>\n",
       "      <td>240.0</td>\n",
       "      <td>9</td>\n",
       "    </tr>\n",
       "    <tr>\n",
       "      <th>201907040212</th>\n",
       "      <td>3.0</td>\n",
       "      <td>380.0</td>\n",
       "      <td>3</td>\n",
       "    </tr>\n",
       "    <tr>\n",
       "      <th>201908040309</th>\n",
       "      <td>10.0</td>\n",
       "      <td>260.0</td>\n",
       "      <td>10</td>\n",
       "    </tr>\n",
       "    <tr>\n",
       "      <th>201908040312</th>\n",
       "      <td>1.0</td>\n",
       "      <td>170.0</td>\n",
       "      <td>1</td>\n",
       "    </tr>\n",
       "    <tr>\n",
       "      <th>201908040405</th>\n",
       "      <td>3.0</td>\n",
       "      <td>1290.0</td>\n",
       "      <td>3</td>\n",
       "    </tr>\n",
       "    <tr>\n",
       "      <th>201908040601</th>\n",
       "      <td>9.0</td>\n",
       "      <td>490.0</td>\n",
       "      <td>9</td>\n",
       "    </tr>\n",
       "    <tr>\n",
       "      <th>201908040705</th>\n",
       "      <td>9.0</td>\n",
       "      <td>230.0</td>\n",
       "      <td>9</td>\n",
       "    </tr>\n",
       "    <tr>\n",
       "      <th>201908050402</th>\n",
       "      <td>4.0</td>\n",
       "      <td>140.0</td>\n",
       "      <td>4</td>\n",
       "    </tr>\n",
       "    <tr>\n",
       "      <th>201908050404</th>\n",
       "      <td>2.0</td>\n",
       "      <td>2730.0</td>\n",
       "      <td>2</td>\n",
       "    </tr>\n",
       "    <tr>\n",
       "      <th>201909040203</th>\n",
       "      <td>8.0</td>\n",
       "      <td>310.0</td>\n",
       "      <td>8</td>\n",
       "    </tr>\n",
       "    <tr>\n",
       "      <th>201909040208</th>\n",
       "      <td>7.0</td>\n",
       "      <td>160.0</td>\n",
       "      <td>7</td>\n",
       "    </tr>\n",
       "    <tr>\n",
       "      <th>201909040305</th>\n",
       "      <td>8.0</td>\n",
       "      <td>510.0</td>\n",
       "      <td>8</td>\n",
       "    </tr>\n",
       "    <tr>\n",
       "      <th>201909040311</th>\n",
       "      <td>9.0</td>\n",
       "      <td>140.0</td>\n",
       "      <td>9</td>\n",
       "    </tr>\n",
       "    <tr>\n",
       "      <th>201909040701</th>\n",
       "      <td>1.0</td>\n",
       "      <td>710.0</td>\n",
       "      <td>1</td>\n",
       "    </tr>\n",
       "    <tr>\n",
       "      <th>201909040710</th>\n",
       "      <td>4.0</td>\n",
       "      <td>250.0</td>\n",
       "      <td>4</td>\n",
       "    </tr>\n",
       "    <tr>\n",
       "      <th>201909050106</th>\n",
       "      <td>3.0</td>\n",
       "      <td>360.0</td>\n",
       "      <td>3</td>\n",
       "    </tr>\n",
       "    <tr>\n",
       "      <th>201909050302</th>\n",
       "      <td>7.0</td>\n",
       "      <td>110.0</td>\n",
       "      <td>7</td>\n",
       "    </tr>\n",
       "    <tr>\n",
       "      <th>201909050305</th>\n",
       "      <td>5.0</td>\n",
       "      <td>310.0</td>\n",
       "      <td>5</td>\n",
       "    </tr>\n",
       "    <tr>\n",
       "      <th>201909050306</th>\n",
       "      <td>4.0</td>\n",
       "      <td>1240.0</td>\n",
       "      <td>4</td>\n",
       "    </tr>\n",
       "    <tr>\n",
       "      <th>201909050401</th>\n",
       "      <td>8.0</td>\n",
       "      <td>180.0</td>\n",
       "      <td>8</td>\n",
       "    </tr>\n",
       "    <tr>\n",
       "      <th>201909050404</th>\n",
       "      <td>5.0</td>\n",
       "      <td>1300.0</td>\n",
       "      <td>5</td>\n",
       "    </tr>\n",
       "    <tr>\n",
       "      <th>201909050405</th>\n",
       "      <td>5.0</td>\n",
       "      <td>610.0</td>\n",
       "      <td>5</td>\n",
       "    </tr>\n",
       "    <tr>\n",
       "      <th>201909050709</th>\n",
       "      <td>4.0</td>\n",
       "      <td>280.0</td>\n",
       "      <td>4</td>\n",
       "    </tr>\n",
       "    <tr>\n",
       "      <th>201909050711</th>\n",
       "      <td>5.0</td>\n",
       "      <td>210.0</td>\n",
       "      <td>5</td>\n",
       "    </tr>\n",
       "  </tbody>\n",
       "</table>\n",
       "</div>"
      ],
      "text/plain": [
       "               win  return  馬番\n",
       "201904030112  15.0   280.0  15\n",
       "201905040105  16.0  1310.0  16\n",
       "201905040504   5.0   440.0   5\n",
       "201905040806  16.0   210.0  16\n",
       "201905040812  13.0   190.0  13\n",
       "201905050106  12.0   170.0  12\n",
       "201905050202  14.0   120.0  14\n",
       "201905050205   1.0   140.0   1\n",
       "201905050206   4.0   190.0   4\n",
       "201905050408  14.0   230.0  14\n",
       "201905050505   5.0   310.0   5\n",
       "201905050702  12.0   300.0  12\n",
       "201905050805   4.0   810.0   4\n",
       "201906040201   5.0   230.0   5\n",
       "201906040203   2.0   350.0   2\n",
       "201906040205   7.0   200.0   7\n",
       "201906040305   4.0   380.0   4\n",
       "201906040402  13.0   180.0  13\n",
       "201906040505  12.0   180.0  12\n",
       "201906040603  10.0   250.0  10\n",
       "201906040803  16.0   190.0  16\n",
       "201906050104   8.0   380.0   8\n",
       "201906050301   7.0   290.0   7\n",
       "201906050401   9.0   430.0   9\n",
       "201906050501  15.0   290.0  15\n",
       "201906050704   2.0   180.0   2\n",
       "201906050804   9.0   240.0   9\n",
       "201907040212   3.0   380.0   3\n",
       "201908040309  10.0   260.0  10\n",
       "201908040312   1.0   170.0   1\n",
       "201908040405   3.0  1290.0   3\n",
       "201908040601   9.0   490.0   9\n",
       "201908040705   9.0   230.0   9\n",
       "201908050402   4.0   140.0   4\n",
       "201908050404   2.0  2730.0   2\n",
       "201909040203   8.0   310.0   8\n",
       "201909040208   7.0   160.0   7\n",
       "201909040305   8.0   510.0   8\n",
       "201909040311   9.0   140.0   9\n",
       "201909040701   1.0   710.0   1\n",
       "201909040710   4.0   250.0   4\n",
       "201909050106   3.0   360.0   3\n",
       "201909050302   7.0   110.0   7\n",
       "201909050305   5.0   310.0   5\n",
       "201909050306   4.0  1240.0   4\n",
       "201909050401   8.0   180.0   8\n",
       "201909050404   5.0  1300.0   5\n",
       "201909050405   5.0   610.0   5\n",
       "201909050709   4.0   280.0   4\n",
       "201909050711   5.0   210.0   5"
      ]
     },
     "execution_count": 66,
     "metadata": {},
     "output_type": "execute_result"
    }
   ],
   "source": [
    "wins=bets[bets[\"win\"]==bets[\"馬番\"]]\n",
    "wins"
   ]
  },
  {
   "cell_type": "code",
   "execution_count": 67,
   "id": "cf31574b-ea80-48d0-808d-f7f62f05ae95",
   "metadata": {},
   "outputs": [
    {
     "data": {
      "text/plain": [
       "3340.0"
      ]
     },
     "execution_count": 67,
     "metadata": {},
     "output_type": "execute_result"
    }
   ],
   "source": [
    "wins[\"return\"].sum()-175*100"
   ]
  },
  {
   "cell_type": "markdown",
   "id": "8a62a3a8-46da-479b-8f21-b487716079fb",
   "metadata": {},
   "source": [
    "# 3.スクレイピング"
   ]
  },
  {
   "cell_type": "code",
   "execution_count": 70,
   "id": "21c0cf94-7142-4897-af63-6229b6e9805b",
   "metadata": {},
   "outputs": [],
   "source": [
    "def scrape_race_results(race_id_list, pre_race_results={}):\n",
    "    race_results = pre_race_results\n",
    "    for race_id in tqdm(race_id_list):\n",
    "        if race_id in race_results.keys():\n",
    "            continue\n",
    "        try:\n",
    "            url = \"https://db.netkeiba.com/race/\" + race_id\n",
    "            df = pd.read_html(url)[0]\n",
    "\n",
    "            time.sleep(1)\n",
    "\n",
    "            # horse_idとjockey_idをスクレイピング\n",
    "            html = requests.get(url)\n",
    "            html.encoding = \"EUC-JP\"\n",
    "            soup = BeautifulSoup(html.text, \"html.parser\")\n",
    "            # horse_id\n",
    "            horse_id_list = []\n",
    "            horse_a_list = soup.find(\"table\", attrs={\"summary\": \"レース結果\"}).find_all(\n",
    "                \"a\", attrs={\"href\": re.compile(\"^/horse\")}\n",
    "            )\n",
    "            for a in horse_a_list:\n",
    "                horse_id_list.append(re.findall(r\"\\d+\", a[\"href\"])[0])\n",
    "            # horse_id\n",
    "            jockey_id_list = []\n",
    "            jockey_a_list = soup.find(\"table\", attrs={\"summary\": \"レース結果\"}).find_all(\n",
    "                \"a\", attrs={\"href\": re.compile(\"^/jockey\")}\n",
    "            )\n",
    "            for a in jockey_a_list:\n",
    "                jockey_id_list.append(re.findall(r\"\\d+\", a[\"href\"])[0])\n",
    "\n",
    "            df[\"horse_id\"] = horse_id_list\n",
    "            df[\"jockey_id\"] = jockey_id_list\n",
    "\n",
    "            race_results[race_id] = df\n",
    "        except IndexError:\n",
    "            continue\n",
    "        except Exception as e:\n",
    "            print(e)\n",
    "        except:\n",
    "            break\n",
    "    return race_results\n",
    "\n",
    "\n",
    "def scrape_race_info(race_id_list, pre={}):\n",
    "    race_infos = pre\n",
    "    for race_id in tqdm(race_id_list):\n",
    "        try:\n",
    "            url = \"https://db.netkeiba.com/race/\" + race_id\n",
    "            html = requests.get(url)\n",
    "            html.encoding = \"EUC-JP\"\n",
    "            soup = BeautifulSoup(html.text, \"html.parser\")\n",
    "\n",
    "            texts = (\n",
    "                soup.find(\"div\", attrs={\"class\": \"data_intro\"}).find_all(\"p\")[0].text\n",
    "                + soup.find(\"div\", attrs={\"class\": \"data_intro\"}).find_all(\"p\")[1].text\n",
    "            )\n",
    "            info = re.findall(r\"\\w+\", texts)\n",
    "            info_dict = {}\n",
    "            for text in info:\n",
    "                if text in [\"芝\", \"ダート\"]:\n",
    "                    info_dict[\"race_type\"] = text\n",
    "                if \"障\" in text:\n",
    "                    info_dict[\"race_type\"] = \"障害\"\n",
    "                if \"m\" in text:\n",
    "                    info_dict[\"course_len\"] = re.findall(r\"\\d+\", text)[0]\n",
    "                if text in [\"良\", \"稍重\", \"重\", \"不良\"]:\n",
    "                    info_dict[\"ground_state\"] = text\n",
    "                if text in [\"曇\", \"晴\", \"雨\", \"小雨\", \"小雪\", \"雪\"]:\n",
    "                    info_dict[\"weather\"] = text\n",
    "                if \"年\" in text:\n",
    "                    info_dict[\"date\"] = text\n",
    "            race_infos[race_id] = info_dict\n",
    "            time.sleep(1)\n",
    "        except IndexError:\n",
    "            continue\n",
    "        except Exception as e:\n",
    "            print(e)\n",
    "        except:\n",
    "            break\n",
    "    return race_infos\n",
    "\n",
    "\n",
    "def scrape_return_tables(race_id_list, pre_return_tables={}):\n",
    "    return_tables = pre_return_tables\n",
    "    for race_id in tqdm(race_id_list):\n",
    "        if race_id in return_tables.keys():\n",
    "            continue\n",
    "        try:\n",
    "            time.sleep(1)\n",
    "            url = \"https://db.netkeiba.com/race/\" + race_id\n",
    "            f = urlopen(url)\n",
    "            html = f.read()\n",
    "            html = html.replace(b\"<br />\", b\"br\")\n",
    "            dfs = pd.read_html(html)\n",
    "            return_tables[race_id] = pd.concat([dfs[1], dfs[2]])\n",
    "        except IndexError:\n",
    "            continue\n",
    "        except Exception as e:\n",
    "            print(e)\n",
    "        except:\n",
    "            break\n",
    "    return return_tables\n",
    "\n",
    "\n",
    "def scrape_peds(horse_id_list, pre_peds={}):\n",
    "    peds = pre_peds\n",
    "    for horse_id in tqdm(horse_id_list):\n",
    "        if horse_id in peds.keys():\n",
    "            continue\n",
    "        try:\n",
    "            url = \"https://db.netkeiba.com/horse/ped/\" + horse_id\n",
    "            df = pd.read_html(url)[0]\n",
    "\n",
    "            generations = {}\n",
    "            for i in range(5)[::-1]:\n",
    "                generations[i] = df[i]\n",
    "                df.drop([i], axis=1, inplace=True)\n",
    "                df = df.drop_duplicates()\n",
    "            ped = pd.concat([generations[i] for i in range(5)]).rename(horse_id)\n",
    "            peds[horse_id] = ped.reset_index(drop=True)\n",
    "\n",
    "            time.sleep(1)\n",
    "        except IndexError:\n",
    "            continue\n",
    "        except Exception as e:\n",
    "            print(e)\n",
    "            break\n",
    "    return peds\n",
    "\n",
    "\n",
    "def scrape_horse_results(horse_id_list, pre_horse_results={}):\n",
    "    horse_results = pre_horse_results\n",
    "    for horse_id in tqdm(horse_id_list):\n",
    "        if horse_id in horse_results.keys():\n",
    "            continue\n",
    "        try:\n",
    "            time.sleep(1)\n",
    "            url = \"https://db.netkeiba.com/horse/\" + horse_id\n",
    "            df = pd.read_html(url)[3]\n",
    "            if df.columns[0] == \"受賞歴\":\n",
    "                df = pd.read_html(url)[4]\n",
    "            horse_results[horse_id] = df\n",
    "        except IndexError:\n",
    "            continue\n",
    "        except Exception as e:\n",
    "            print(e)\n",
    "        except:\n",
    "            break\n",
    "    return horse_results\n",
    "\n",
    "\n",
    "def scrape_horse_rp(horse_id_list, pre_peds={}, pre_horse_results={}):\n",
    "    horse_results = pre_horse_results\n",
    "    peds = pre_peds\n",
    "    for horse_id in tqdm(horse_id_list):\n",
    "        if horse_id in horse_results.keys():\n",
    "            continue\n",
    "        if horse_id in peds.keys():\n",
    "            continue\n",
    "        try:\n",
    "            time.sleep(1)\n",
    "            url = \"https://db.netkeiba.com/horse/\" + horse_id\n",
    "            df = pd.read_html(url)[3]\n",
    "            urlp = \"https://db.netkeiba.com/horse/ped/\" + horse_id\n",
    "            dfp = pd.read_html(urlp)[0]\n",
    "            if df.columns[0] == \"受賞歴\":\n",
    "                df = pd.read_html(url)[4]\n",
    "            horse_results[horse_id] = df\n",
    "            generations = {}\n",
    "            for i in range(5)[::-1]:\n",
    "                generations[i] = dfp[i]\n",
    "                dfp.drop([i], axis=1, inplace=True)\n",
    "                dfp = dfp.drop_duplicates()\n",
    "            ped = pd.concat([generations[i] for i in range(5)]).rename(horse_id)\n",
    "            peds[horse_id] = ped.reset_index(drop=True)\n",
    "\n",
    "        except IndexError:\n",
    "            continue\n",
    "        except Exception as e:\n",
    "            print(e)\n",
    "        except:\n",
    "            break\n",
    "    return horse_results, peds"
   ]
  },
  {
   "cell_type": "code",
   "execution_count": 65,
   "id": "24dd508b-a84a-49ee-bad3-94b6b0b29cca",
   "metadata": {},
   "outputs": [],
   "source": [
    "race_id_list = []\n",
    "for place in range(1, 11):\n",
    "    for kai in range(1, 6):\n",
    "        for day in range(1, 13): #9->13\n",
    "            for race in range(1, 13):\n",
    "                race_id = (\n",
    "                    \"2020\"\n",
    "                    + str(place).zfill(2)\n",
    "                    + str(kai).zfill(2)\n",
    "                    + str(day).zfill(2)\n",
    "                    + str(race).zfill(2)\n",
    "                )\n",
    "                race_id_list.append(race_id)"
   ]
  },
  {
   "cell_type": "markdown",
   "id": "90dab0c9-3019-4595-bc83-edef12a9edfa",
   "metadata": {},
   "source": [
    "# 4.出馬表データ"
   ]
  },
  {
   "cell_type": "code",
   "execution_count": 132,
   "id": "f9c98f22-d9d3-4f70-abfd-c5275480840a",
   "metadata": {
    "tags": []
   },
   "outputs": [],
   "source": [
    "class DataProcessor:\n",
    "    def __init__(self):\n",
    "        self.data = pd.DataFrame()\n",
    "        self.data_p = pd.DataFrame()\n",
    "        self.data_h = pd.DataFrame()\n",
    "        self.data_pe = pd.DataFrame()\n",
    "        self.data_c = pd.DataFrame()\n",
    "\n",
    "    def merge_horse_results(self, hr, n_samples_list=[5, 9, \"all\"]):\n",
    "        self.data_h = self.data_p.copy()\n",
    "        for n in n_samples_list:\n",
    "            self.data_h = hr.merge_all(self.data_h, n_samples=n)\n",
    "\n",
    "    def merge_peds(self, peds):\n",
    "        self.data_pe = self.data_h.merge(\n",
    "            peds, left_on=\"horse_id\", right_index=True, how=\"left\"\n",
    "        )\n",
    "        self.no_peds = self.data_pe[self.data_pe[\"peds_0\"].isnull()][\n",
    "            \"horse_id\"\n",
    "        ].unique()\n",
    "        if len(self.no_peds) > 0:\n",
    "            print(\"後でスクレイピング\")\n",
    "\n",
    "    def process_categorical(self, le_horse, le_jockey, results_m):\n",
    "        df = self.data_pe.copy()\n",
    "        mask_horse = df[\"horse_id\"].isin(le_horse.classes_)\n",
    "        new_horse_id = df[\"horse_id\"].mask(mask_horse).dropna().unique()\n",
    "        le_horse.classes_ = np.concatenate([le_horse.classes_, new_horse_id])\n",
    "        df[\"horse_id\"] = le_horse.transform(df[\"horse_id\"])\n",
    "\n",
    "        mask_jockey = df[\"jockey_id\"].isin(le_jockey.classes_)\n",
    "        new_jockey_id = df[\"jockey_id\"].mask(mask_jockey).dropna().unique()\n",
    "        le_jockey.classes_ = np.concatenate([le_jockey.classes_, new_jockey_id])\n",
    "        df[\"jockey_id\"] = le_jockey.transform(df[\"jockey_id\"])\n",
    "\n",
    "        df[\"horse_id\"] = df[\"horse_id\"].astype(\"category\")\n",
    "        df[\"jockey_id\"] = df[\"jockey_id\"].astype(\"category\")\n",
    "\n",
    "        weathers = results_m[\"weather\"].unique()\n",
    "        race_types = results_m[\"race_type\"].unique()\n",
    "        ground_states = results_m[\"ground_state\"].unique()\n",
    "        sexes = results_m[\"性\"].unique()\n",
    "        df[\"weather\"] = pd.Categorical(df[\"weather\"], weathers)\n",
    "        df[\"race_type\"] = pd.Categorical(df[\"race_type\"], race_types)\n",
    "        df[\"ground_state\"] = pd.Categorical(df[\"ground_state\"], ground_states)\n",
    "        df[\"性\"] = pd.Categorical(df[\"性\"], sexes)\n",
    "        df = pd.get_dummies(df, columns=[\"weather\", \"race_type\", \"ground_state\", \"性\"])\n",
    "\n",
    "        self.data_c = df\n",
    "\n",
    "\n",
    "class ShutubaTable(DataProcessor):\n",
    "    def __init__(self):\n",
    "        super(ShutubaTable, self).__init__()\n",
    "\n",
    "    def scrape(self, race_id_list, date):\n",
    "        for race_id in tqdm(race_id_list):\n",
    "            url = \"https://race.netkeiba.com/race/shutuba.html?race_id=\" + race_id\n",
    "            df = pd.read_html(url)[0]\n",
    "            df = df.T.reset_index(level=0, drop=True).T\n",
    "            html = requests.get(url)\n",
    "            html.encoding = \"EUC-JP\"\n",
    "            soup = BeautifulSoup(html.text, \"html.parser\")\n",
    "\n",
    "            texts = soup.find(\"div\", attrs={\"class\": \"RaceData01\"}).text\n",
    "            texts = re.findall(r\"\\w+\", texts)\n",
    "            for text in texts:\n",
    "                if \"m\" in text:\n",
    "                    df[\"corse_len\"] = [int(re.findall(r\"\\d+\", text)[0])] * len(df)\n",
    "                if text in [\"曇\", \"晴\", \"雨\", \"小雨\", \"小雪\", \"雪\"]:\n",
    "                    df[\"weather\"] = [text] * len(df)\n",
    "                if text in [\"良\", \"稍重\", \"重\"]:\n",
    "                    df[\"ground_state\"] = [text] * len(df)\n",
    "                if text in \"不\":\n",
    "                    df[\"ground_state\"] = [\"不良\"] * len(df)\n",
    "                if \"芝\" in text:\n",
    "                    df[\"race_type\"] = [\"芝\"] * len(df)\n",
    "                if \"ダ\" in text:\n",
    "                    df[\"race_type\"] = [\"ダート\"] * len(df)\n",
    "                if \"障\" in text:\n",
    "                    df[\"race_type\"] = [\"障害\"] * len(df)\n",
    "            df[\"date\"] = [date] * len(df)\n",
    "\n",
    "            # horse_id\n",
    "            horse_id_list = []\n",
    "            horse_td_list = soup.find_all(\"td\", attrs={\"class\": \"HorseInfo\"})\n",
    "            for td in horse_td_list:\n",
    "                horse_id = re.findall(r\"\\d+\", td.find(\"a\")[\"href\"])[0]\n",
    "                horse_id_list.append(horse_id)\n",
    "            # jockey_id\n",
    "            jockey_id_list = []\n",
    "            jockey_td_list = soup.find_all(\"td\", attrs={\"class\": \"Jockey\"})\n",
    "            for td in jockey_td_list:\n",
    "                jockey_id = re.findall(r\"\\d+\", td.find(\"a\")[\"href\"])[0]\n",
    "                jockey_id_list.append(jockey_id)\n",
    "\n",
    "            df[\"horse_id\"] = horse_id_list\n",
    "            df[\"jockey_id\"] = jockey_id_list\n",
    "\n",
    "            df.index = [race_id] * len(df)\n",
    "            self.data = self.data.append(df)\n",
    "            time.sleep(1)\n",
    "\n",
    "    def preprocessing(self, flag=False):#馬体重を除く\n",
    "        df = self.data.copy()\n",
    "        df[\"性\"] = df[\"性齢\"].map(lambda x: str(x)[0])\n",
    "        df[\"年齢\"] = df[\"性齢\"].map(lambda x: str(x)[1:]).astype(int)\n",
    "\n",
    "        if flag:\n",
    "            df.drop([\"馬体重(増減)\"], axis=1, inplace=True)\n",
    "        else:\n",
    "            df = df[df[\"馬体重(増減)\"] != \"--\"]\n",
    "            df = df[~df[\"馬体重(増減)\"].isnull()]\n",
    "            # 馬体重を体重と体重変化に分ける\n",
    "            df[\"体重\"] = df[\"馬体重(増減)\"].str.split(\"(\", expand=True)[0].astype(int)\n",
    "            df[\"体重変化\"] = (\n",
    "                df[\"馬体重(増減)\"].str.split(\"(\", expand=True)[1].str[:-1].astype(int)\n",
    "            )\n",
    "\n",
    "        df[\"date\"] = pd.to_datetime(df[\"date\"])\n",
    "        df[\"枠\"] = df[\"枠\"].astype(int)\n",
    "        df[\"馬番\"] = df[\"馬番\"].astype(int)\n",
    "        df[\"斤量\"] = df[\"斤量\"].astype(int)\n",
    "        df_list = [\n",
    "            \"枠\",\n",
    "            \"馬番\",\n",
    "            \"斤量\",\n",
    "            \"corse_len\",\n",
    "            \"weather\",\n",
    "            \"race_type\",\n",
    "            \"ground_state\",\n",
    "            \"date\",\n",
    "            \"horse_id\",\n",
    "            \"jockey_id\",\n",
    "            \"性\",\n",
    "            \"年齢\",\n",
    "        ]\n",
    "        if not flag:\n",
    "            df_list.append(\"体重\")\n",
    "            df_list.append(\"体重変化\")\n",
    "        # 不要な列を削除\n",
    "        df = df[df_list]\n",
    "        self.data_p = df.rename(columns={\"枠\": \"枠番\"})\n",
    "\n",
    "\n",
    "class Results(DataProcessor):\n",
    "    def __init__(self, results):\n",
    "        super(Results, self).__init__()\n",
    "        self.data = results\n",
    "\n",
    "    def preprocessing(self):\n",
    "        df = self.data.copy()\n",
    "\n",
    "        # 着順に数字以外の文字列が含まれているものを取り除く\n",
    "        df = df[~(df[\"着順\"].astype(str).str.contains(\"\\D\"))]\n",
    "        df[\"着順\"] = df[\"着順\"].astype(int)\n",
    "        df[\"rank\"] = df[\"着順\"].map(lambda x: 1 if x < 4 else 0)\n",
    "\n",
    "        # 性齢を性と年齢に分ける\n",
    "        df[\"性\"] = df[\"性齢\"].map(lambda x: str(x)[0])\n",
    "        df[\"年齢\"] = df[\"性齢\"].map(lambda x: str(x)[1:]).astype(int)\n",
    "\n",
    "        # 馬体重を体重と体重変化に分ける\n",
    "        df[\"体重\"] = df[\"馬体重\"].str.split(\"(\", expand=True)[0].astype(int)\n",
    "        df[\"体重変化\"] = df[\"馬体重\"].str.split(\"(\", expand=True)[1].str[:-1].astype(int)\n",
    "\n",
    "        # データをint, floatに変換\n",
    "        df[\"単勝\"] = df[\"単勝\"].astype(float)\n",
    "\n",
    "        # 不要な列を削除\n",
    "        df.drop(\n",
    "            [\"タイム\", \"着差\", \"調教師\", \"性齢\", \"馬体重\", \"馬名\", \"騎手\", \"着順\", \"単勝\", \"人気\"],\n",
    "            axis=1,\n",
    "            inplace=True,\n",
    "        )\n",
    "\n",
    "        df[\"date\"] = pd.to_datetime(df[\"date\"], format=\"%Y年%m月%d日\")\n",
    "\n",
    "        self.data_p = df\n",
    "\n",
    "    def process_categorical(self):\n",
    "        self.le_horse = LabelEncoder().fit(self.data_pe[\"horse_id\"])\n",
    "        self.le_jockey = LabelEncoder().fit(self.data_pe[\"jockey_id\"])\n",
    "        super().process_categorical(self.le_horse, self.le_jockey, self.data_pe)"
   ]
  },
  {
   "cell_type": "code",
   "execution_count": 52,
   "id": "8ef8834e-d1ef-478e-8ad2-432fd149d215",
   "metadata": {},
   "outputs": [
    {
     "name": "stdin",
     "output_type": "stream",
     "text": [
      " 202105030211\n"
     ]
    }
   ],
   "source": [
    "target_rid=input()[:-2] #予想するレース\n",
    "rid=[target_rid+\"{}\".format(str(i).zfill(2)) for i in range(1,13)] "
   ]
  },
  {
   "cell_type": "code",
   "execution_count": 180,
   "id": "6012de13-3ae7-4ad3-9012-434b92dc81cf",
   "metadata": {
    "tags": []
   },
   "outputs": [
    {
     "name": "stdin",
     "output_type": "stream",
     "text": [
      "format:oooo/oo/oo 2021/06/06\n"
     ]
    },
    {
     "data": {
      "application/vnd.jupyter.widget-view+json": {
       "model_id": "0b8f5d3ccece4495b9c6e9fa4d7fe4b9",
       "version_major": 2,
       "version_minor": 0
      },
      "text/plain": [
       "  0%|          | 0/12 [00:00<?, ?it/s]"
      ]
     },
     "metadata": {},
     "output_type": "display_data"
    }
   ],
   "source": [
    "st=ShutubaTable()\n",
    "target_date=input(\"format:oooo/oo/oo\")\n",
    "st.scrape(rid,target_date)"
   ]
  },
  {
   "cell_type": "code",
   "execution_count": 181,
   "id": "73397bae-ea62-4c7c-a875-904a9b4abbaa",
   "metadata": {
    "tags": []
   },
   "outputs": [],
   "source": [
    "st.preprocessing(flag=True)"
   ]
  },
  {
   "cell_type": "code",
   "execution_count": 182,
   "id": "ee1b6c28-9054-4330-bd39-0a5397380529",
   "metadata": {},
   "outputs": [],
   "source": [
    "st.merge_horse_results(hr)\n",
    "#st.data_h.head()a"
   ]
  },
  {
   "cell_type": "code",
   "execution_count": 183,
   "id": "be1e9a4f-1cd8-4901-8b32-6ca6d2eb1b5f",
   "metadata": {},
   "outputs": [
    {
     "name": "stdout",
     "output_type": "stream",
     "text": [
      "aaaaaaaaaaaaaaa\n"
     ]
    }
   ],
   "source": [
    "st.merge_peds(p.peds_e)\n",
    "#st.data_pe"
   ]
  },
  {
   "cell_type": "code",
   "execution_count": 137,
   "id": "cbd63b00-5906-4fc7-8965-fa56ae60abe7",
   "metadata": {},
   "outputs": [],
   "source": [
    "#st.shutuba_tables_pe[st.shutuba_tables_pe[\"peds_0\"].isnull()]"
   ]
  },
  {
   "cell_type": "markdown",
   "id": "6e81a2d8-6527-4920-9bc1-dcd7fa825237",
   "metadata": {},
   "source": [
    "## 4.1 ラベルエンコーディング、ダミー変数化"
   ]
  },
  {
   "cell_type": "code",
   "execution_count": 138,
   "id": "65fee214-8f2c-431e-8862-85bcdc980f03",
   "metadata": {},
   "outputs": [],
   "source": [
    "#le_jockey=LabelEncoder().fit(results_m[\"jockey_id\"])\n",
    "#le_horse=LabelEncoder().fit(results_m[\"horse_id\"])"
   ]
  },
  {
   "cell_type": "code",
   "execution_count": 139,
   "id": "c9fd623e-85a1-4f39-9d7f-cb5e2c979ec0",
   "metadata": {},
   "outputs": [],
   "source": [
    "r=Results(results_n) \n",
    "r.preprocessing()\n",
    "#r.data_p.head()"
   ]
  },
  {
   "cell_type": "code",
   "execution_count": 140,
   "id": "909fe065-2c55-4c22-9076-5e7c01ea2a60",
   "metadata": {},
   "outputs": [],
   "source": [
    "r.merge_horse_results(hr) #about 2~3minutes\n",
    "#r.data_h.head()"
   ]
  },
  {
   "cell_type": "code",
   "execution_count": 141,
   "id": "0761b7da-2837-49fa-b7af-683ae5369ce9",
   "metadata": {},
   "outputs": [],
   "source": [
    "r.merge_peds(p.peds_e)\n",
    "#r.data_pe.head()"
   ]
  },
  {
   "cell_type": "code",
   "execution_count": 142,
   "id": "4669d942-231e-4ab1-8a56-5a51b2f726e0",
   "metadata": {},
   "outputs": [],
   "source": [
    "r.process_categorical()\n",
    "#r.data_c.head()"
   ]
  },
  {
   "cell_type": "code",
   "execution_count": 184,
   "id": "601d4f6b-eaf4-4839-96bd-7b9dd6d503ed",
   "metadata": {},
   "outputs": [],
   "source": [
    "st.process_categorical(r.le_horse,r.le_jockey,r.data_pe)\n",
    "#st.data_c.head()"
   ]
  },
  {
   "cell_type": "markdown",
   "id": "bfdeb94e-03bb-407a-bd58-49600bc4d1ec",
   "metadata": {},
   "source": [
    "## 4.2 実際に勝率を予測"
   ]
  },
  {
   "cell_type": "code",
   "execution_count": 185,
   "id": "e5decb28-0d2d-459c-b27c-c2ee11461205",
   "metadata": {},
   "outputs": [
    {
     "name": "stdin",
     "output_type": "stream",
     "text": [
      "y or n y\n"
     ]
    }
   ],
   "source": [
    "flag=True if input(\"y or n\")==\"y\" else False\n",
    "X=r.data_c.drop([\"rank\",\"date\"],axis=1)\n",
    "if flag:\n",
    "    X.drop([\"体重\",\"体重変化\"],axis=1,inplace=True)\n",
    "y=r.data_c[\"rank\"]"
   ]
  },
  {
   "cell_type": "code",
   "execution_count": 186,
   "id": "1837977d-aef2-46ca-b1dc-0e8ad6e1a7a8",
   "metadata": {},
   "outputs": [
    {
     "data": {
      "text/plain": [
       "LGBMClassifier(class_weight='balanced', n_estimators=80, num_leaves=4,\n",
       "               random_state=100)"
      ]
     },
     "execution_count": 186,
     "metadata": {},
     "output_type": "execute_result"
    }
   ],
   "source": [
    "params = {\n",
    "    \"num_leaves\": 4,\n",
    "    \"n_estimators\": 80,\n",
    "    \"class_weight\": \"balanced\",\n",
    "    \"random_state\": 100,\n",
    "}\n",
    "lgb_clf = lgb.LGBMClassifier(**params)\n",
    "lgb_clf.fit(X.values, y.values)"
   ]
  },
  {
   "cell_type": "code",
   "execution_count": 187,
   "id": "7c4786c9-ced9-44ab-9457-29c198d88eb3",
   "metadata": {},
   "outputs": [],
   "source": [
    "me=ModelEvaluator(lgb_clf,return_tables)\n",
    "pred=me.predict_proba(st.data_c.drop([\"date\"],axis=1))"
   ]
  },
  {
   "cell_type": "code",
   "execution_count": 173,
   "id": "e37e3ed9-bedb-4c89-ba7f-1189da04a8b0",
   "metadata": {},
   "outputs": [],
   "source": [
    "pred_rec=me.predict(st.data_c.drop([\"date\"],axis=1),0.82)"
   ]
  },
  {
   "cell_type": "code",
   "execution_count": 188,
   "id": "d142a8a1-958f-46b6-bc3a-ac609a74d40d",
   "metadata": {},
   "outputs": [
    {
     "name": "stdin",
     "output_type": "stream",
     "text": [
      " 11\n"
     ]
    },
    {
     "data": {
      "text/html": [
       "<div>\n",
       "<style scoped>\n",
       "    .dataframe tbody tr th:only-of-type {\n",
       "        vertical-align: middle;\n",
       "    }\n",
       "\n",
       "    .dataframe tbody tr th {\n",
       "        vertical-align: top;\n",
       "    }\n",
       "\n",
       "    .dataframe thead th {\n",
       "        text-align: right;\n",
       "    }\n",
       "</style>\n",
       "<table border=\"1\" class=\"dataframe\">\n",
       "  <thead>\n",
       "    <tr style=\"text-align: right;\">\n",
       "      <th></th>\n",
       "      <th>馬番</th>\n",
       "      <th>pred</th>\n",
       "    </tr>\n",
       "  </thead>\n",
       "  <tbody>\n",
       "    <tr>\n",
       "      <th>202105030211</th>\n",
       "      <td>13</td>\n",
       "      <td>0.896615</td>\n",
       "    </tr>\n",
       "    <tr>\n",
       "      <th>202105030211</th>\n",
       "      <td>1</td>\n",
       "      <td>0.834473</td>\n",
       "    </tr>\n",
       "    <tr>\n",
       "      <th>202105030211</th>\n",
       "      <td>5</td>\n",
       "      <td>0.811236</td>\n",
       "    </tr>\n",
       "    <tr>\n",
       "      <th>202105030211</th>\n",
       "      <td>8</td>\n",
       "      <td>0.791482</td>\n",
       "    </tr>\n",
       "    <tr>\n",
       "      <th>202105030211</th>\n",
       "      <td>11</td>\n",
       "      <td>0.737641</td>\n",
       "    </tr>\n",
       "    <tr>\n",
       "      <th>202105030211</th>\n",
       "      <td>12</td>\n",
       "      <td>0.689991</td>\n",
       "    </tr>\n",
       "    <tr>\n",
       "      <th>202105030211</th>\n",
       "      <td>14</td>\n",
       "      <td>0.663248</td>\n",
       "    </tr>\n",
       "    <tr>\n",
       "      <th>202105030211</th>\n",
       "      <td>4</td>\n",
       "      <td>0.639552</td>\n",
       "    </tr>\n",
       "    <tr>\n",
       "      <th>202105030211</th>\n",
       "      <td>6</td>\n",
       "      <td>0.639458</td>\n",
       "    </tr>\n",
       "    <tr>\n",
       "      <th>202105030211</th>\n",
       "      <td>7</td>\n",
       "      <td>0.420900</td>\n",
       "    </tr>\n",
       "    <tr>\n",
       "      <th>202105030211</th>\n",
       "      <td>10</td>\n",
       "      <td>0.336902</td>\n",
       "    </tr>\n",
       "    <tr>\n",
       "      <th>202105030211</th>\n",
       "      <td>9</td>\n",
       "      <td>0.283724</td>\n",
       "    </tr>\n",
       "    <tr>\n",
       "      <th>202105030211</th>\n",
       "      <td>2</td>\n",
       "      <td>0.228673</td>\n",
       "    </tr>\n",
       "    <tr>\n",
       "      <th>202105030211</th>\n",
       "      <td>3</td>\n",
       "      <td>0.221888</td>\n",
       "    </tr>\n",
       "  </tbody>\n",
       "</table>\n",
       "</div>"
      ],
      "text/plain": [
       "              馬番      pred\n",
       "202105030211  13  0.896615\n",
       "202105030211   1  0.834473\n",
       "202105030211   5  0.811236\n",
       "202105030211   8  0.791482\n",
       "202105030211  11  0.737641\n",
       "202105030211  12  0.689991\n",
       "202105030211  14  0.663248\n",
       "202105030211   4  0.639552\n",
       "202105030211   6  0.639458\n",
       "202105030211   7  0.420900\n",
       "202105030211  10  0.336902\n",
       "202105030211   9  0.283724\n",
       "202105030211   2  0.228673\n",
       "202105030211   3  0.221888"
      ]
     },
     "execution_count": 188,
     "metadata": {},
     "output_type": "execute_result"
    }
   ],
   "source": [
    "R_index=input()\n",
    "pred_table=st.data_c[[\"馬番\"]].copy()\n",
    "pred_table[\"pred\"]=pred\n",
    "pred_table.sort_values(\"pred\",ascending=False).loc[target_rid+R_index]"
   ]
  }
 ],
 "metadata": {
  "kernelspec": {
   "display_name": "Python 3",
   "language": "python",
   "name": "python3"
  },
  "language_info": {
   "codemirror_mode": {
    "name": "ipython",
    "version": 3
   },
   "file_extension": ".py",
   "mimetype": "text/x-python",
   "name": "python",
   "nbconvert_exporter": "python",
   "pygments_lexer": "ipython3",
   "version": "3.7.10"
  }
 },
 "nbformat": 4,
 "nbformat_minor": 5
}
